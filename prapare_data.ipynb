{
 "cells": [
  {
   "cell_type": "code",
   "execution_count": 13,
   "metadata": {},
   "outputs": [
    {
     "data": {
      "text/html": [
       "<div>\n",
       "<style scoped>\n",
       "    .dataframe tbody tr th:only-of-type {\n",
       "        vertical-align: middle;\n",
       "    }\n",
       "\n",
       "    .dataframe tbody tr th {\n",
       "        vertical-align: top;\n",
       "    }\n",
       "\n",
       "    .dataframe thead th {\n",
       "        text-align: right;\n",
       "    }\n",
       "</style>\n",
       "<table border=\"1\" class=\"dataframe\">\n",
       "  <thead>\n",
       "    <tr style=\"text-align: right;\">\n",
       "      <th></th>\n",
       "      <th>id</th>\n",
       "      <th>score</th>\n",
       "      <th>geometry</th>\n",
       "    </tr>\n",
       "  </thead>\n",
       "  <tbody>\n",
       "    <tr>\n",
       "      <th>0</th>\n",
       "      <td>0</td>\n",
       "      <td>4</td>\n",
       "      <td>POINT (9.70777 54.03548)</td>\n",
       "    </tr>\n",
       "    <tr>\n",
       "      <th>1</th>\n",
       "      <td>1</td>\n",
       "      <td>4</td>\n",
       "      <td>POINT (13.3765 52.47189)</td>\n",
       "    </tr>\n",
       "    <tr>\n",
       "      <th>2</th>\n",
       "      <td>2</td>\n",
       "      <td>3</td>\n",
       "      <td>POINT (7.99422 52.36472)</td>\n",
       "    </tr>\n",
       "    <tr>\n",
       "      <th>3</th>\n",
       "      <td>3</td>\n",
       "      <td>1</td>\n",
       "      <td>POINT (7.2473 50.72574)</td>\n",
       "    </tr>\n",
       "    <tr>\n",
       "      <th>4</th>\n",
       "      <td>4</td>\n",
       "      <td>1</td>\n",
       "      <td>POINT (8.54344 49.82737)</td>\n",
       "    </tr>\n",
       "    <tr>\n",
       "      <th>...</th>\n",
       "      <td>...</td>\n",
       "      <td>...</td>\n",
       "      <td>...</td>\n",
       "    </tr>\n",
       "    <tr>\n",
       "      <th>95</th>\n",
       "      <td>95</td>\n",
       "      <td>1</td>\n",
       "      <td>POINT (10.42812 51.36831)</td>\n",
       "    </tr>\n",
       "    <tr>\n",
       "      <th>96</th>\n",
       "      <td>96</td>\n",
       "      <td>3</td>\n",
       "      <td>POINT (10.42814 51.36816)</td>\n",
       "    </tr>\n",
       "    <tr>\n",
       "      <th>97</th>\n",
       "      <td>97</td>\n",
       "      <td>4</td>\n",
       "      <td>POINT (10.42854 51.36814)</td>\n",
       "    </tr>\n",
       "    <tr>\n",
       "      <th>98</th>\n",
       "      <td>98</td>\n",
       "      <td>5</td>\n",
       "      <td>POINT (10.42867 51.36803)</td>\n",
       "    </tr>\n",
       "    <tr>\n",
       "      <th>99</th>\n",
       "      <td>99</td>\n",
       "      <td>2</td>\n",
       "      <td>POINT (10.42868 51.36785)</td>\n",
       "    </tr>\n",
       "  </tbody>\n",
       "</table>\n",
       "<p>100 rows × 3 columns</p>\n",
       "</div>"
      ],
      "text/plain": [
       "    id  score                   geometry\n",
       "0    0      4   POINT (9.70777 54.03548)\n",
       "1    1      4   POINT (13.3765 52.47189)\n",
       "2    2      3   POINT (7.99422 52.36472)\n",
       "3    3      1    POINT (7.2473 50.72574)\n",
       "4    4      1   POINT (8.54344 49.82737)\n",
       "..  ..    ...                        ...\n",
       "95  95      1  POINT (10.42812 51.36831)\n",
       "96  96      3  POINT (10.42814 51.36816)\n",
       "97  97      4  POINT (10.42854 51.36814)\n",
       "98  98      5  POINT (10.42867 51.36803)\n",
       "99  99      2  POINT (10.42868 51.36785)\n",
       "\n",
       "[100 rows x 3 columns]"
      ]
     },
     "execution_count": 13,
     "metadata": {},
     "output_type": "execute_result"
    }
   ],
   "source": [
    "import geopandas as gpd\n",
    "import numpy as np\n",
    "\n",
    "gdf = gpd.read_file(\"coordinates.geojson\")\n",
    "# Step 2: Add a new column with random integers between 1 and 5\n",
    "#gdf['score'] = np.random.randint(1, 6, size=len(gdf))\n",
    "gdf[\"id\"] = gdf.index\n",
    "gdf"
   ]
  },
  {
   "cell_type": "code",
   "execution_count": 14,
   "metadata": {},
   "outputs": [],
   "source": [
    "gdf.to_file(\"coordinates.geojson\")"
   ]
  },
  {
   "cell_type": "markdown",
   "metadata": {},
   "source": [
    "# Tippecanoe conversion "
   ]
  },
  {
   "cell_type": "code",
   "execution_count": 26,
   "metadata": {},
   "outputs": [],
   "source": [
    "#!tippecanoe -zg -o coordinates.pbf --drop-densest-as-needed coordinates.geojson --force"
   ]
  },
  {
   "cell_type": "code",
   "execution_count": 15,
   "metadata": {},
   "outputs": [
    {
     "name": "stdout",
     "output_type": "stream",
     "text": [
      "Highest supported detail with maxzoom 24 is 8\n",
      "Highest supported low detail with maxzoom 24 is 9\n",
      "For layer 0, using name \"coordinates\"\n",
      "100 features, 2223 bytes of geometry and attributes, 401 bytes of string pool, 0 bytes of vertices, 0 bytes of nodes\n",
      "  99.9%  24/8874131/5588517  \n"
     ]
    }
   ],
   "source": [
    "!tippecanoe -o tilesets/coordinates.mbtiles coordinates.geojson -z24 --drop-rate=1 --force "
   ]
  },
  {
   "cell_type": "code",
   "execution_count": null,
   "metadata": {},
   "outputs": [],
   "source": []
  }
 ],
 "metadata": {
  "kernelspec": {
   "display_name": "py3.11",
   "language": "python",
   "name": "python3"
  },
  "language_info": {
   "codemirror_mode": {
    "name": "ipython",
    "version": 3
   },
   "file_extension": ".py",
   "mimetype": "text/x-python",
   "name": "python",
   "nbconvert_exporter": "python",
   "pygments_lexer": "ipython3",
   "version": "3.11.9"
  }
 },
 "nbformat": 4,
 "nbformat_minor": 2
}
